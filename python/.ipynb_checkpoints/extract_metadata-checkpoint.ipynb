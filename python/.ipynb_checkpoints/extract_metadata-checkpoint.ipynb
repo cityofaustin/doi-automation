{
 "cells": [
  {
   "cell_type": "code",
   "execution_count": 45,
   "metadata": {},
   "outputs": [],
   "source": [
    "import requests\n",
    "# import os\n",
    "# import json\n",
    "# import xmlrpc.client\n",
    "\n",
    "datasets = []\n",
    "count = 0"
   ]
  },
  {
   "cell_type": "code",
   "execution_count": 46,
   "metadata": {},
   "outputs": [],
   "source": [
    "def gather_all_assets():\n",
    "    \"\"\"Gathers datasets from socrata for metadata generation and compiles a list.\"\"\"\n",
    "    global count\n",
    "    global datasets\n",
    "    # limits query to 2000 results\n",
    "    url = 'http://api.us.socrata.com/api/catalog/v1?limit=2000&domains=data.austintexas.gov'\n",
    "    r = requests.get(url).json()\n",
    "\n",
    "    for item in r['results']:\n",
    "        try:\n",
    "            datasets.append({item['resource']['id']: (item['resource']['name'], # name\n",
    "                                                      item['classification']['domain_metadata'][0]['value'], # department\n",
    "                                                      # item['classification']['domain_category'], # category\n",
    "                                                      item['resource']['type'], # type\n",
    "                                                      item['resource']['createdAt'].split('-')[0], # publication year\n",
    "                                                      item['permalink'],\n",
    "                                                      item['resource']['description'])}) # permalink\n",
    "        except IndexError:\n",
    "            count +=1 \n",
    "    return datasets"
   ]
  },
  {
   "cell_type": "code",
   "execution_count": 47,
   "metadata": {},
   "outputs": [],
   "source": [
    "assets = gather_all_assets()"
   ]
  },
  {
   "cell_type": "code",
   "execution_count": 48,
   "metadata": {},
   "outputs": [
    {
     "data": {
      "text/plain": [
       "{'kz4x-q9k5': ('Austin Animal Center Stray Map',\n",
       "  'Healthy Austin',\n",
       "  'dataset',\n",
       "  '2014',\n",
       "  'https://data.austintexas.gov/d/kz4x-q9k5',\n",
       "  'This map shows all stray cats and dogs that are currently listed in AAC\\'s database for no longer than a week. Most will be located at AAC, but some will be held by citizens, which will be indicated on the \"At AAC\" column. AAC will post an image as soon as possible, which can be accessed by clicking the link in the \"Image Link\" column. Please also check http://www.austintexas.gov/department/lost-found-pet for more information.')}"
      ]
     },
     "execution_count": 48,
     "metadata": {},
     "output_type": "execute_result"
    }
   ],
   "source": [
    "assets[50]"
   ]
  },
  {
   "cell_type": "code",
   "execution_count": 7,
   "metadata": {},
   "outputs": [
    {
     "data": {
      "text/plain": [
       "554"
      ]
     },
     "execution_count": 7,
     "metadata": {},
     "output_type": "execute_result"
    }
   ],
   "source": [
    "count"
   ]
  },
  {
   "cell_type": "code",
   "execution_count": null,
   "metadata": {},
   "outputs": [],
   "source": []
  }
 ],
 "metadata": {
  "kernelspec": {
   "display_name": "Python 3",
   "language": "python",
   "name": "python3"
  },
  "language_info": {
   "codemirror_mode": {
    "name": "ipython",
    "version": 3
   },
   "file_extension": ".py",
   "mimetype": "text/x-python",
   "name": "python",
   "nbconvert_exporter": "python",
   "pygments_lexer": "ipython3",
   "version": "3.6.4"
  }
 },
 "nbformat": 4,
 "nbformat_minor": 2
}
