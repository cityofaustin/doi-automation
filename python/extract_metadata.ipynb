{
 "cells": [
  {
   "cell_type": "code",
   "execution_count": 49,
   "metadata": {},
   "outputs": [],
   "source": [
    "import requests\n",
    "# import os\n",
    "# import json\n",
    "# import xmlrpc.client\n",
    "\n",
    "datasets = []"
   ]
  },
  {
   "cell_type": "code",
   "execution_count": 50,
   "metadata": {},
   "outputs": [],
   "source": [
    "def gather_datasets():\n",
    "    global datasets\n",
    "    \"\"\"Gathers datasets from socrata for metadata generation and compiles a list of dicts 'datasets'.\"\"\"\n",
    "    url = 'https://data.austintexas.gov/api/views/metadata/v1'\n",
    "    r = requests.get(url).json()\n",
    "    \n",
    "    for item in r:\n",
    "        datasets.append({item['id']: (item['name'], item['attribution'], item['dataUri'])})\n",
    "    \n",
    "    return datasets"
   ]
  },
  {
   "cell_type": "code",
   "execution_count": 51,
   "metadata": {},
   "outputs": [],
   "source": [
    "test_list = gather_datasets()"
   ]
  },
  {
   "cell_type": "code",
   "execution_count": 52,
   "metadata": {},
   "outputs": [
    {
     "data": {
      "text/plain": [
       "{'jrat-n5fe': ('Participants Attending International Business Seminars',\n",
       "  None,\n",
       "  'https://data.austintexas.gov/resource/jrat-n5fe')}"
      ]
     },
     "execution_count": 52,
     "metadata": {},
     "output_type": "execute_result"
    }
   ],
   "source": [
    "test_list[900]"
   ]
  },
  {
   "cell_type": "code",
   "execution_count": 53,
   "metadata": {},
   "outputs": [],
   "source": [
    "def get_metadata(resource_uuid):\n",
    "    url = '/api/views/metadata/v1/view-{}'.format(resource_uuid)\n",
    "    return requests.get(url).json()"
   ]
  },
  {
   "cell_type": "code",
   "execution_count": 54,
   "metadata": {},
   "outputs": [
    {
     "name": "stdout",
     "output_type": "stream",
     "text": [
      "dict_values([('Top-10-Searches-Chart', 'City of Austin, Texas', 'https://data.austintexas.gov/resource/q37s-pqpu')])\n",
      "dict_values([('Off- Leash Areas', 'Austin Parks and Recreation Department', 'https://data.austintexas.gov/resource/iyf6-bziq')])\n",
      "dict_values([('Austin Animal Center Found Pets Map', 'Austin Animal Center', 'https://data.austintexas.gov/resource/hye6-gvq2')])\n",
      "dict_values([('Map of Declared Dangerous Dogs', 'City of Austin', 'https://data.austintexas.gov/resource/ri75-pahg')])\n",
      "dict_values([('APD Incident Extract YTD', 'City of Austin', 'https://data.austintexas.gov/resource/b4y9-5x39')])\n"
     ]
    }
   ],
   "source": [
    "for test in test_list[:5]:\n",
    "    print (test.values())"
   ]
  },
  {
   "cell_type": "code",
   "execution_count": null,
   "metadata": {},
   "outputs": [],
   "source": []
  }
 ],
 "metadata": {
  "kernelspec": {
   "display_name": "Python 3",
   "language": "python",
   "name": "python3"
  },
  "language_info": {
   "codemirror_mode": {
    "name": "ipython",
    "version": 3
   },
   "file_extension": ".py",
   "mimetype": "text/x-python",
   "name": "python",
   "nbconvert_exporter": "python",
   "pygments_lexer": "ipython3",
   "version": "3.6.4"
  }
 },
 "nbformat": 4,
 "nbformat_minor": 2
}
